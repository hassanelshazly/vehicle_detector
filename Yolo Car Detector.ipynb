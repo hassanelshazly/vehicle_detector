{
 "cells": [
  {
   "cell_type": "markdown",
   "metadata": {
    "id": "oQZbq77XazeA"
   },
   "source": [
    "## Imports"
   ]
  },
  {
   "cell_type": "code",
   "execution_count": 1,
   "metadata": {
    "executionInfo": {
     "elapsed": 295,
     "status": "ok",
     "timestamp": 1652697181704,
     "user": {
      "displayName": "Hassan El-shazly",
      "userId": "13079408207715640845"
     },
     "user_tz": -120
    },
    "id": "ck9TxFgQbKHq"
   },
   "outputs": [],
   "source": [
    "import os\n",
    "import math\n",
    "import glob\n",
    "import time\n",
    "import cv2\n",
    "import numpy as np\n",
    "import matplotlib.pyplot as plt\n",
    "from moviepy.editor import VideoFileClip"
   ]
  },
  {
   "cell_type": "markdown",
   "metadata": {
    "id": "_ypTHugtaqRs"
   },
   "source": [
    "## Load yolo weights, cfg, and labels"
   ]
  },
  {
   "cell_type": "code",
   "execution_count": 4,
   "metadata": {
    "executionInfo": {
     "elapsed": 410,
     "status": "ok",
     "timestamp": 1652706720130,
     "user": {
      "displayName": "Hassan El-shazly",
      "userId": "13079408207715640845"
     },
     "user_tz": -120
    },
    "id": "Grfa-UeiblIC"
   },
   "outputs": [],
   "source": [
    "cfg_path = \"./yolo/yolov3.cfg\"\n",
    "names_path = \"./yolo/yolov3.names\"\n",
    "weights_path = \"./yolo/yolov3.weights\"\n",
    "\n",
    "labels = open(names_path).read().strip().split(\"\\n\")\n",
    "net = cv2.dnn.readNetFromDarknet(cfg_path, weights_path)\n",
    "layers_names = net.getLayerNames()\n",
    "output_layers_names = [layers_names[i - 1] for i in net.getUnconnectedOutLayers()]"
   ]
  },
  {
   "cell_type": "markdown",
   "metadata": {},
   "source": [
    "## Process Image"
   ]
  },
  {
   "cell_type": "code",
   "execution_count": 21,
   "metadata": {
    "executionInfo": {
     "elapsed": 320,
     "status": "ok",
     "timestamp": 1652707563298,
     "user": {
      "displayName": "Hassan El-shazly",
      "userId": "13079408207715640845"
     },
     "user_tz": -120
    },
    "id": "PFbnkft2leqx"
   },
   "outputs": [],
   "source": [
    "def process_image(image):\n",
    "  (H, W) = image.shape[:2]\n",
    "  blob = cv2.dnn.blobFromImage(image, 1/255, (416, 416), crop=False, swapRB=True)\n",
    "  net.setInput(blob)\n",
    "  layers_output = net.forward(output_layers_names)\n",
    "  boxes = []\n",
    "  confidences = []\n",
    "  class_ids = []\n",
    "\n",
    "  for output in layers_output:\n",
    "    for detection in output:\n",
    "      scores = detection[5:]\n",
    "      class_id = np.argmax(scores)\n",
    "      confidence = scores[class_id]\n",
    "\n",
    "      if confidence > 0.85:\n",
    "        box = detection[:4] * np.array([W, H, W, H])\n",
    "        bx, by, bw, bh = box.astype(\"int\")\n",
    "\n",
    "        x = int(bx - (bw / 2))\n",
    "        y = int(by - (bh / 2))\n",
    "\n",
    "        boxes.append([x, y, bw, bh])\n",
    "        confidences.append(float(confidence))\n",
    "        class_ids.append(class_id)\n",
    "\n",
    "  idxes = cv2.dnn.NMSBoxes(boxes, confidences, score_threshold = 0.4, nms_threshold = 0.7)\n",
    "\n",
    "  for idx in idxes:\n",
    "    (x, y) = [boxes[idx][0], boxes[idx][1]]\n",
    "    (w, h) = [boxes[idx][2], boxes[idx][3]]\n",
    "\n",
    "    cv2.rectangle(image, (x, y), (x + w, y + h), (255, 255, 0), 2)\n",
    "    text = \"{}: {:.3f}\".format(labels[class_ids[idx]], confidences[idx])\n",
    "    cv2.putText(image, text, (x, y - 5), cv2.FONT_HERSHEY_SIMPLEX, 0.5, (255, 255, 0), 2)\n",
    "\n",
    "  return image"
   ]
  },
  {
   "cell_type": "markdown",
   "metadata": {
    "id": "_Umg63gF4LjF"
   },
   "source": [
    "## Process Video"
   ]
  },
  {
   "cell_type": "code",
   "execution_count": null,
   "metadata": {
    "colab": {
     "base_uri": "https://localhost:8080/"
    },
    "id": "6S4xzdiGnbvC",
    "outputId": "ecca7bf0-e0bf-488c-8c14-6ef9cda7d812"
   },
   "outputs": [
    {
     "name": "stderr",
     "output_type": "stream",
     "text": [
      "                                                                                                    \n",
      "\n",
      "\n",
      "t:   8%|████                                               | 3/38 [06:27<00:21,  1.64it/s, now=None]\n",
      "\n",
      "\n",
      "                                                                                                    \u001b[A\u001b[A\u001b[A\n",
      "\n",
      "\n",
      "t:   8%|████                                               | 3/38 [06:27<00:21,  1.64it/s, now=None]\n",
      "\n",
      "\n",
      "t:   4%|██                                             | 33/751 [3:49:24<13:33,  1.13s/it, now=None]\u001b[A\u001b[A\u001b[A"
     ]
    },
    {
     "name": "stdout",
     "output_type": "stream",
     "text": [
      "Moviepy - Building video ./output_videos/test_video.mp4.\n",
      "Moviepy - Writing video ./output_videos/test_video.mp4\n",
      "\n"
     ]
    },
    {
     "name": "stderr",
     "output_type": "stream",
     "text": [
      "\n",
      "t:   0%|                                                           | 0/38 [00:00<?, ?it/s, now=None]\u001b[A\n",
      "t:   5%|██▋                                                | 2/38 [00:00<00:15,  2.40it/s, now=None]\u001b[A\n",
      "t:   8%|████                                               | 3/38 [00:01<00:22,  1.53it/s, now=None]\u001b[A\n",
      "t:  11%|█████▎                                             | 4/38 [00:02<00:26,  1.29it/s, now=None]\u001b[A\n",
      "t:  13%|██████▋                                            | 5/38 [00:03<00:28,  1.18it/s, now=None]\u001b[A\n",
      "t:  16%|████████                                           | 6/38 [00:04<00:28,  1.11it/s, now=None]\u001b[A\n",
      "t:  18%|█████████▍                                         | 7/38 [00:05<00:29,  1.07it/s, now=None]\u001b[A\n",
      "t:  21%|██████████▋                                        | 8/38 [00:06<00:28,  1.06it/s, now=None]\u001b[A\n",
      "t:  24%|████████████                                       | 9/38 [00:07<00:26,  1.09it/s, now=None]\u001b[A\n",
      "t:  26%|█████████████▏                                    | 10/38 [00:08<00:25,  1.12it/s, now=None]\u001b[A\n",
      "t:  29%|██████████████▍                                   | 11/38 [00:09<00:23,  1.15it/s, now=None]\u001b[A"
     ]
    }
   ],
   "source": [
    "input_video = \"./test_videos/test_video.mp4\"\n",
    "output_video = './output_videos/test_video.mp4'\n",
    "\n",
    "start_time = time.time()\n",
    "\n",
    "clip = VideoFileClip(input_video)\n",
    "%time clip.fl_image(process_image).write_videofile(output_video, audio=False)\n",
    "\n",
    "print(\"Finished at {}\".format((time.time() - start_time)/60))"
   ]
  }
 ],
 "metadata": {
  "colab": {
   "authorship_tag": "ABX9TyMXd5Qj7Wb3MF7omcFeljYs",
   "name": "Yolo Car Detector.ipynb",
   "provenance": []
  },
  "kernelspec": {
   "display_name": "Python 3 (ipykernel)",
   "language": "python",
   "name": "python3"
  },
  "language_info": {
   "codemirror_mode": {
    "name": "ipython",
    "version": 3
   },
   "file_extension": ".py",
   "mimetype": "text/x-python",
   "name": "python",
   "nbconvert_exporter": "python",
   "pygments_lexer": "ipython3",
   "version": "3.8.10"
  }
 },
 "nbformat": 4,
 "nbformat_minor": 1
}
